{
 "cells": [
  {
   "cell_type": "code",
   "execution_count": 8,
   "id": "18129808",
   "metadata": {},
   "outputs": [],
   "source": [
    "from tkinter import *\n",
    "def shift():\n",
    "    x1,y1,x2,y2 = canvas.bbox(\"marquee\")\n",
    "    if(x2<0 or y1<0): #reset the coordinates\n",
    "        x1 = canvas.winfo_width()\n",
    "        y1 = canvas.winfo_height()//2\n",
    "        canvas.coords(\"marquee\",x1,y1)\n",
    "    else:\n",
    "        canvas.move(\"marquee\", -2, 0)\n",
    "    canvas.after(1000//fps,shift)\n",
    "############# Main program ###############\n",
    "root=Tk()\n",
    "root.title('Move Text')\n",
    "canvas=Canvas(root,bg='black')\n",
    "canvas.pack(fill=BOTH, expand=1)\n",
    "text_var=\"Hey there Delilah!,What's it like in New York City.\"\n",
    "text=canvas.create_text(500,-2000,text=text_var,font=('Times New Roman',20,'bold'),fill='white',tags=(\"marquee\",),anchor='w')\n",
    "x1,y1,x2,y2 = canvas.bbox(\"marquee\")\n",
    "width = x2-x1\n",
    "height = y2-y1\n",
    "canvas['width']=width\n",
    "canvas['height']=height\n",
    "fps=40    #Change the fps to make the animation faster/slower\n",
    "shift()\n",
    "root.mainloop()"
   ]
  },
  {
   "cell_type": "code",
   "execution_count": null,
   "id": "a6bf11df",
   "metadata": {},
   "outputs": [],
   "source": []
  },
  {
   "cell_type": "code",
   "execution_count": null,
   "id": "c30c1632",
   "metadata": {},
   "outputs": [],
   "source": []
  }
 ],
 "metadata": {
  "kernelspec": {
   "display_name": "Python 3",
   "language": "python",
   "name": "python3"
  },
  "language_info": {
   "codemirror_mode": {
    "name": "ipython",
    "version": 3
   },
   "file_extension": ".py",
   "mimetype": "text/x-python",
   "name": "python",
   "nbconvert_exporter": "python",
   "pygments_lexer": "ipython3",
   "version": "3.8.8"
  }
 },
 "nbformat": 4,
 "nbformat_minor": 5
}
