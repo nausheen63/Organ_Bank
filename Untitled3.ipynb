{
 "cells": [
  {
   "cell_type": "code",
   "execution_count": 2,
   "id": "61664b93",
   "metadata": {},
   "outputs": [],
   "source": [
    "#Import the required libraries\n",
    "from tkinter import *\n",
    "from tkinter import ttk\n",
    "\n",
    "#Create an instance of Tkinter Frame\n",
    "win = Tk()\n",
    "\n",
    "#Set the geometry\n",
    "win.geometry(\"700x250\")\n",
    "\n",
    "# Define a function to return the Input data\n",
    "def get_data():\n",
    "    label.config(text= entry.get(), font= ('Helvetica 13'))\n",
    "\n",
    "#Create an Entry Widget\n",
    "entry = Entry(win, width= 42)\n",
    "entry.place(relx= .5, rely= .5, anchor= CENTER)\n",
    "\n",
    "#Inititalize a Label widget\n",
    "label= Label(win, text=\"\", font=('Helvetica 13'))\n",
    "label.pack()\n",
    "\n",
    "#Create a Button to get the input data\n",
    "ttk.Button(win, text= \"Click to Show\", command= get_data).place(relx= .7, rely= .5, anchor= CENTER)\n",
    "\n",
    "win.mainloop()"
   ]
  },
  {
   "cell_type": "code",
   "execution_count": 3,
   "id": "04774b61",
   "metadata": {},
   "outputs": [
    {
     "name": "stdout",
     "output_type": "stream",
     "text": [
      "The name is : afsdlkn\n",
      "The password is : asd\n"
     ]
    }
   ],
   "source": [
    "# Program to make a simple\n",
    "# login screen\n",
    "\n",
    "\n",
    "import tkinter as tk\n",
    "\n",
    "root=tk.Tk()\n",
    "\n",
    "# setting the windows size\n",
    "root.geometry(\"600x400\")\n",
    "\n",
    "# declaring string variable\n",
    "# for storing name and password\n",
    "name_var=tk.StringVar()\n",
    "passw_var=tk.StringVar()\n",
    "\n",
    "\n",
    "# defining a function that will\n",
    "# get the name and password and\n",
    "# print them on the screen\n",
    "def submit():\n",
    "\n",
    "\tname=name_var.get()\n",
    "\tpassword=passw_var.get()\n",
    "\t\n",
    "\tprint(\"The name is : \" + name)\n",
    "\tprint(\"The password is : \" + password)\n",
    "\t\n",
    "\tname_var.set(\"\")\n",
    "\tpassw_var.set(\"\")\n",
    "\t\n",
    "\t\n",
    "# creating a label for\n",
    "# name using widget Label\n",
    "name_label = tk.Label(root, text = 'Username', font=('calibre',10, 'bold'))\n",
    "\n",
    "# creating a entry for input\n",
    "# name using widget Entry\n",
    "name_entry = tk.Entry(root,textvariable = name_var, font=('calibre',10,'normal'))\n",
    "\n",
    "# creating a label for password\n",
    "passw_label = tk.Label(root, text = 'Password', font = ('calibre',10,'bold'))\n",
    "\n",
    "# creating a entry for password\n",
    "passw_entry=tk.Entry(root, textvariable = passw_var, font = ('calibre',10,'normal'), show = '*')\n",
    "\n",
    "# creating a button using the widget\n",
    "# Button that will call the submit function\n",
    "sub_btn=tk.Button(root,text = 'Submit', command = submit)\n",
    "\n",
    "# placing the label and entry in\n",
    "# the required position using grid\n",
    "# method\n",
    "name_label.grid(row=0,column=0)\n",
    "name_entry.grid(row=0,column=1)\n",
    "passw_label.grid(row=1,column=0)\n",
    "passw_entry.grid(row=1,column=1)\n",
    "sub_btn.grid(row=2,column=1)\n",
    "\n",
    "# performing an infinite loop\n",
    "# for the window to display\n",
    "root.mainloop()\n"
   ]
  },
  {
   "cell_type": "code",
   "execution_count": null,
   "id": "5ebf481c",
   "metadata": {},
   "outputs": [],
   "source": []
  }
 ],
 "metadata": {
  "kernelspec": {
   "display_name": "Python 3",
   "language": "python",
   "name": "python3"
  },
  "language_info": {
   "codemirror_mode": {
    "name": "ipython",
    "version": 3
   },
   "file_extension": ".py",
   "mimetype": "text/x-python",
   "name": "python",
   "nbconvert_exporter": "python",
   "pygments_lexer": "ipython3",
   "version": "3.8.8"
  }
 },
 "nbformat": 4,
 "nbformat_minor": 5
}
