{
 "cells": [
  {
   "cell_type": "code",
   "execution_count": 11,
   "id": "524c722b",
   "metadata": {},
   "outputs": [],
   "source": [
    "from tkinter import *\n",
    "\n",
    "root = Tk()\n",
    "root.geometry('250x150')\n",
    "\n",
    "button1 = Button(text=\"button1\")\n",
    "button1.pack(side = BOTTOM, pady=6)\n",
    "\n",
    "button2 = Button(text=\"button2\")\n",
    "button2.pack(side = BOTTOM, pady=25)\n",
    "\n",
    "root.mainloop()"
   ]
  },
  {
   "cell_type": "code",
   "execution_count": 13,
   "id": "df622271",
   "metadata": {},
   "outputs": [],
   "source": [
    "from tkinter import *\n",
    "\n",
    "root = Tk()\n",
    "\n",
    "listbox = Listbox(root)\n",
    "\n",
    "# fill option added to make widget fill entire frame.\n",
    "# expand option added to expand widget, if user resizes frame.\n",
    "listbox.pack(fill=BOTH, expand=1)\n",
    "\n",
    "for z in range(10):\n",
    "    listbox.insert(END, str(z))\n",
    "\n",
    "mainloop()"
   ]
  },
  {
   "cell_type": "code",
   "execution_count": 14,
   "id": "4368026a",
   "metadata": {},
   "outputs": [],
   "source": [
    "import tkinter as tk\n",
    "\n",
    "root = tk.Tk()\n",
    "test = tk.Label(root, text=\"Red\", bg=\"red\", fg=\"white\")\n",
    "test.pack(ipadx=30, ipady=6)\n",
    "test = tk.Label(root, text=\"Purple\", bg=\"purple\", fg=\"white\")\n",
    "test.pack(ipadx=8, ipady=12)\n",
    "tk.mainloop()"
   ]
  },
  {
   "cell_type": "code",
   "execution_count": 1,
   "id": "409281de",
   "metadata": {},
   "outputs": [
    {
     "name": "stdout",
     "output_type": "stream",
     "text": [
      "[('dewashish',), ('dewashish',), ('dewashish',), ('dewashish',), ('dewashish',), ('dewashish',), ('dewashish',), ('dewashish',), ('dewashish',), ('dewashish',), ('dewashish',), ('dewashish',), ('dewashish',), ('dewashish',), ('dewashish',), ('dewashish',), ('dewashish',), ('dewashish',), ('dewashish',), ('pratik',), ('dewashish',), ('pratik',), ('dewashish',), ('pratik',), ('atharva',), ('yogesh',)]\n"
     ]
    }
   ],
   "source": [
    "from tkinter import *\n",
    "from PIL import Image, ImageTk\n",
    "import sqlite3\n",
    "\n",
    "root = Tk()\n",
    "root.wm_attributes('-fullscreen','true')\n",
    "root.title(\"My Test GUI\")\n",
    "\n",
    "\n",
    "Fullname=StringVar()\n",
    "\n",
    "conn = sqlite3.connect('Form.db')\n",
    "cursor=conn.cursor()\n",
    "\n",
    "def database():\n",
    "\n",
    "    name1=Fullname.get()\n",
    "    cursor.execute('CREATE TABLE IF NOT EXISTS Student (Fullname TEXT)')\n",
    "    cursor.execute('INSERT INTO Student (FullName) VALUES(?)',(name1,))\n",
    "    conn.commit()\n",
    "\n",
    "def error():\n",
    "\n",
    "    root1 = Toplevel(root)\n",
    "    root1.geometry(\"150x90\")\n",
    "    root1.title(\"Warning\")\n",
    "    Label(root1, text = \"All fields required\", fg = \"red\").pack()\n",
    "\n",
    "def read_from_db():\n",
    "    cursor.execute('SELECT * FROM Student')\n",
    "    data = cursor.fetchall()\n",
    "    print(data)\n",
    "\n",
    "label_0 = Label(root, text=\"My Test GUI\",width=20,font=(\"bold\", 20))\n",
    "label_0.place(x=650,y=53)\n",
    "\n",
    "\n",
    "label_1 = Label(root, text=\"Name\",width=20,font=(\"bold\", 10))\n",
    "label_1.place(x=550,y=130)\n",
    "\n",
    "entry_1 = Entry(root,textvar=Fullname)\n",
    "entry_1.place(x=700,y=130)\n",
    "\n",
    "Button(root, text='Submit',width=20,bg='brown',fg='white', command=database).place(x=650,y=380)\n",
    "\n",
    "root.mainloop()\n",
    "read_from_db()"
   ]
  },
  {
   "cell_type": "code",
   "execution_count": null,
   "id": "fc813014",
   "metadata": {},
   "outputs": [],
   "source": []
  }
 ],
 "metadata": {
  "kernelspec": {
   "display_name": "Python 3",
   "language": "python",
   "name": "python3"
  },
  "language_info": {
   "codemirror_mode": {
    "name": "ipython",
    "version": 3
   },
   "file_extension": ".py",
   "mimetype": "text/x-python",
   "name": "python",
   "nbconvert_exporter": "python",
   "pygments_lexer": "ipython3",
   "version": "3.8.8"
  }
 },
 "nbformat": 4,
 "nbformat_minor": 5
}
